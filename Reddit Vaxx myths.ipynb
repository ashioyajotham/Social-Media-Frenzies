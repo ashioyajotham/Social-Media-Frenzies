{
 "cells": [
  {
   "cell_type": "code",
   "execution_count": 1,
   "id": "0155a1e5-7c62-4d91-ad8b-f41ca40ff231",
   "metadata": {},
   "outputs": [],
   "source": [
    "import matplotlib.pyplot as plt\n",
    "import numpy\n",
    "import seaborn as sns\n",
    "import pandas as pd"
   ]
  },
  {
   "cell_type": "code",
   "execution_count": 2,
   "id": "39443345-fa7c-46a5-8d51-4ad78aa0cef3",
   "metadata": {},
   "outputs": [
    {
     "data": {
      "text/html": [
       "<div>\n",
       "<style scoped>\n",
       "    .dataframe tbody tr th:only-of-type {\n",
       "        vertical-align: middle;\n",
       "    }\n",
       "\n",
       "    .dataframe tbody tr th {\n",
       "        vertical-align: top;\n",
       "    }\n",
       "\n",
       "    .dataframe thead th {\n",
       "        text-align: right;\n",
       "    }\n",
       "</style>\n",
       "<table border=\"1\" class=\"dataframe\">\n",
       "  <thead>\n",
       "    <tr style=\"text-align: right;\">\n",
       "      <th></th>\n",
       "      <th>title</th>\n",
       "      <th>score</th>\n",
       "      <th>id</th>\n",
       "      <th>url</th>\n",
       "      <th>comms_num</th>\n",
       "      <th>created</th>\n",
       "      <th>body</th>\n",
       "      <th>timestamp</th>\n",
       "    </tr>\n",
       "  </thead>\n",
       "  <tbody>\n",
       "    <tr>\n",
       "      <th>0</th>\n",
       "      <td>Health Canada approves AstraZeneca COVID-19 va...</td>\n",
       "      <td>7</td>\n",
       "      <td>lt74vw</td>\n",
       "      <td>https://www.canadaforums.ca/2021/02/health-can...</td>\n",
       "      <td>0</td>\n",
       "      <td>1.614400e+09</td>\n",
       "      <td>NaN</td>\n",
       "      <td>2021-02-27 06:33:45</td>\n",
       "    </tr>\n",
       "    <tr>\n",
       "      <th>1</th>\n",
       "      <td>COVID-19 in Canada: 'Vaccination passports' a ...</td>\n",
       "      <td>2</td>\n",
       "      <td>lsh0ij</td>\n",
       "      <td>https://www.canadaforums.ca/2021/02/covid-19-i...</td>\n",
       "      <td>1</td>\n",
       "      <td>1.614316e+09</td>\n",
       "      <td>NaN</td>\n",
       "      <td>2021-02-26 07:11:07</td>\n",
       "    </tr>\n",
       "    <tr>\n",
       "      <th>2</th>\n",
       "      <td>Coronavirus variants could fuel Canada's third...</td>\n",
       "      <td>6</td>\n",
       "      <td>lohlle</td>\n",
       "      <td>https://www.canadaforums.ca/2021/02/coronaviru...</td>\n",
       "      <td>0</td>\n",
       "      <td>1.613887e+09</td>\n",
       "      <td>NaN</td>\n",
       "      <td>2021-02-21 07:50:08</td>\n",
       "    </tr>\n",
       "    <tr>\n",
       "      <th>3</th>\n",
       "      <td>Canadian government to extend COVID-19 emergen...</td>\n",
       "      <td>1</td>\n",
       "      <td>lnptv8</td>\n",
       "      <td>https://www.canadaforums.ca/2021/02/canadian-g...</td>\n",
       "      <td>0</td>\n",
       "      <td>1.613796e+09</td>\n",
       "      <td>NaN</td>\n",
       "      <td>2021-02-20 06:35:13</td>\n",
       "    </tr>\n",
       "    <tr>\n",
       "      <th>4</th>\n",
       "      <td>Canada: Pfizer is 'extremely committed' to mee...</td>\n",
       "      <td>6</td>\n",
       "      <td>lkslm6</td>\n",
       "      <td>https://www.canadaforums.ca/2021/02/canada-pfi...</td>\n",
       "      <td>0</td>\n",
       "      <td>1.613468e+09</td>\n",
       "      <td>NaN</td>\n",
       "      <td>2021-02-16 11:36:28</td>\n",
       "    </tr>\n",
       "  </tbody>\n",
       "</table>\n",
       "</div>"
      ],
      "text/plain": [
       "                                               title  score      id  \\\n",
       "0  Health Canada approves AstraZeneca COVID-19 va...      7  lt74vw   \n",
       "1  COVID-19 in Canada: 'Vaccination passports' a ...      2  lsh0ij   \n",
       "2  Coronavirus variants could fuel Canada's third...      6  lohlle   \n",
       "3  Canadian government to extend COVID-19 emergen...      1  lnptv8   \n",
       "4  Canada: Pfizer is 'extremely committed' to mee...      6  lkslm6   \n",
       "\n",
       "                                                 url  comms_num       created  \\\n",
       "0  https://www.canadaforums.ca/2021/02/health-can...          0  1.614400e+09   \n",
       "1  https://www.canadaforums.ca/2021/02/covid-19-i...          1  1.614316e+09   \n",
       "2  https://www.canadaforums.ca/2021/02/coronaviru...          0  1.613887e+09   \n",
       "3  https://www.canadaforums.ca/2021/02/canadian-g...          0  1.613796e+09   \n",
       "4  https://www.canadaforums.ca/2021/02/canada-pfi...          0  1.613468e+09   \n",
       "\n",
       "  body            timestamp  \n",
       "0  NaN  2021-02-27 06:33:45  \n",
       "1  NaN  2021-02-26 07:11:07  \n",
       "2  NaN  2021-02-21 07:50:08  \n",
       "3  NaN  2021-02-20 06:35:13  \n",
       "4  NaN  2021-02-16 11:36:28  "
      ]
     },
     "execution_count": 2,
     "metadata": {},
     "output_type": "execute_result"
    }
   ],
   "source": [
    "red = pd.read_csv(\"C:\\\\Users\\\\user\\\\datasets\\\\reddit_vm.csv\")\n",
    "red.head()"
   ]
  },
  {
   "cell_type": "code",
   "execution_count": 3,
   "id": "ca46adc8-841b-4db9-9f3b-c45604e231d5",
   "metadata": {},
   "outputs": [
    {
     "name": "stdout",
     "output_type": "stream",
     "text": [
      "<class 'pandas.core.frame.DataFrame'>\n",
      "RangeIndex: 1597 entries, 0 to 1596\n",
      "Data columns (total 8 columns):\n",
      " #   Column     Non-Null Count  Dtype  \n",
      "---  ------     --------------  -----  \n",
      " 0   title      1597 non-null   object \n",
      " 1   score      1597 non-null   int64  \n",
      " 2   id         1597 non-null   object \n",
      " 3   url        467 non-null    object \n",
      " 4   comms_num  1597 non-null   int64  \n",
      " 5   created    1597 non-null   float64\n",
      " 6   body       1223 non-null   object \n",
      " 7   timestamp  1597 non-null   object \n",
      "dtypes: float64(1), int64(2), object(5)\n",
      "memory usage: 99.9+ KB\n"
     ]
    }
   ],
   "source": [
    "red.info()"
   ]
  },
  {
   "cell_type": "code",
   "execution_count": 4,
   "id": "a5d30d28-4de4-4deb-a8a3-322b40a20045",
   "metadata": {},
   "outputs": [
    {
     "data": {
      "text/html": [
       "<div>\n",
       "<style scoped>\n",
       "    .dataframe tbody tr th:only-of-type {\n",
       "        vertical-align: middle;\n",
       "    }\n",
       "\n",
       "    .dataframe tbody tr th {\n",
       "        vertical-align: top;\n",
       "    }\n",
       "\n",
       "    .dataframe thead th {\n",
       "        text-align: right;\n",
       "    }\n",
       "</style>\n",
       "<table border=\"1\" class=\"dataframe\">\n",
       "  <thead>\n",
       "    <tr style=\"text-align: right;\">\n",
       "      <th></th>\n",
       "      <th>count</th>\n",
       "      <th>mean</th>\n",
       "      <th>std</th>\n",
       "      <th>min</th>\n",
       "      <th>25%</th>\n",
       "      <th>50%</th>\n",
       "      <th>75%</th>\n",
       "      <th>max</th>\n",
       "    </tr>\n",
       "  </thead>\n",
       "  <tbody>\n",
       "    <tr>\n",
       "      <th>score</th>\n",
       "      <td>1597.0</td>\n",
       "      <td>3.665623e+00</td>\n",
       "      <td>2.981435e+01</td>\n",
       "      <td>-1.100000e+01</td>\n",
       "      <td>1.000000e+00</td>\n",
       "      <td>1.000000e+00</td>\n",
       "      <td>3.000000e+00</td>\n",
       "      <td>1.181000e+03</td>\n",
       "    </tr>\n",
       "    <tr>\n",
       "      <th>comms_num</th>\n",
       "      <td>1597.0</td>\n",
       "      <td>1.842830e+00</td>\n",
       "      <td>1.613996e+01</td>\n",
       "      <td>0.000000e+00</td>\n",
       "      <td>0.000000e+00</td>\n",
       "      <td>0.000000e+00</td>\n",
       "      <td>1.000000e+00</td>\n",
       "      <td>5.950000e+02</td>\n",
       "    </tr>\n",
       "    <tr>\n",
       "      <th>created</th>\n",
       "      <td>1597.0</td>\n",
       "      <td>1.546906e+09</td>\n",
       "      <td>7.091538e+07</td>\n",
       "      <td>1.389595e+09</td>\n",
       "      <td>1.554347e+09</td>\n",
       "      <td>1.569195e+09</td>\n",
       "      <td>1.584854e+09</td>\n",
       "      <td>1.635890e+09</td>\n",
       "    </tr>\n",
       "  </tbody>\n",
       "</table>\n",
       "</div>"
      ],
      "text/plain": [
       "            count          mean           std           min           25%  \\\n",
       "score      1597.0  3.665623e+00  2.981435e+01 -1.100000e+01  1.000000e+00   \n",
       "comms_num  1597.0  1.842830e+00  1.613996e+01  0.000000e+00  0.000000e+00   \n",
       "created    1597.0  1.546906e+09  7.091538e+07  1.389595e+09  1.554347e+09   \n",
       "\n",
       "                    50%           75%           max  \n",
       "score      1.000000e+00  3.000000e+00  1.181000e+03  \n",
       "comms_num  0.000000e+00  1.000000e+00  5.950000e+02  \n",
       "created    1.569195e+09  1.584854e+09  1.635890e+09  "
      ]
     },
     "execution_count": 4,
     "metadata": {},
     "output_type": "execute_result"
    }
   ],
   "source": [
    "red.describe().T"
   ]
  },
  {
   "cell_type": "code",
   "execution_count": 5,
   "id": "6b3e983e-d68b-4d39-9b98-22433810c6d7",
   "metadata": {},
   "outputs": [
    {
     "data": {
      "text/plain": [
       "Index(['title', 'score', 'id', 'url', 'comms_num', 'created', 'body',\n",
       "       'timestamp'],\n",
       "      dtype='object')"
      ]
     },
     "execution_count": 5,
     "metadata": {},
     "output_type": "execute_result"
    }
   ],
   "source": [
    "red.columns"
   ]
  },
  {
   "cell_type": "code",
   "execution_count": 6,
   "id": "93b9794f-eb0f-471b-92db-a67b8782a070",
   "metadata": {},
   "outputs": [
    {
     "name": "stdout",
     "output_type": "stream",
     "text": [
      "This dataset has 1597 rows, and 8 columns.\n"
     ]
    }
   ],
   "source": [
    "print(f\"This dataset has {red.shape[0]} rows, and {red.shape[1]} columns.\")"
   ]
  },
  {
   "cell_type": "code",
   "execution_count": 7,
   "id": "9cf47292-4548-44a6-a2d6-88918f4a67ab",
   "metadata": {},
   "outputs": [
    {
     "data": {
      "text/html": [
       "<div>\n",
       "<style scoped>\n",
       "    .dataframe tbody tr th:only-of-type {\n",
       "        vertical-align: middle;\n",
       "    }\n",
       "\n",
       "    .dataframe tbody tr th {\n",
       "        vertical-align: top;\n",
       "    }\n",
       "\n",
       "    .dataframe thead th {\n",
       "        text-align: right;\n",
       "    }\n",
       "</style>\n",
       "<table border=\"1\" class=\"dataframe\">\n",
       "  <thead>\n",
       "    <tr style=\"text-align: right;\">\n",
       "      <th></th>\n",
       "      <th>title</th>\n",
       "      <th>score</th>\n",
       "      <th>id</th>\n",
       "      <th>url</th>\n",
       "      <th>comms_num</th>\n",
       "      <th>created</th>\n",
       "      <th>body</th>\n",
       "      <th>timestamp</th>\n",
       "    </tr>\n",
       "  </thead>\n",
       "  <tbody>\n",
       "    <tr>\n",
       "      <th>0</th>\n",
       "      <td>False</td>\n",
       "      <td>False</td>\n",
       "      <td>False</td>\n",
       "      <td>False</td>\n",
       "      <td>False</td>\n",
       "      <td>False</td>\n",
       "      <td>True</td>\n",
       "      <td>False</td>\n",
       "    </tr>\n",
       "    <tr>\n",
       "      <th>1</th>\n",
       "      <td>False</td>\n",
       "      <td>False</td>\n",
       "      <td>False</td>\n",
       "      <td>False</td>\n",
       "      <td>False</td>\n",
       "      <td>False</td>\n",
       "      <td>True</td>\n",
       "      <td>False</td>\n",
       "    </tr>\n",
       "    <tr>\n",
       "      <th>2</th>\n",
       "      <td>False</td>\n",
       "      <td>False</td>\n",
       "      <td>False</td>\n",
       "      <td>False</td>\n",
       "      <td>False</td>\n",
       "      <td>False</td>\n",
       "      <td>True</td>\n",
       "      <td>False</td>\n",
       "    </tr>\n",
       "    <tr>\n",
       "      <th>3</th>\n",
       "      <td>False</td>\n",
       "      <td>False</td>\n",
       "      <td>False</td>\n",
       "      <td>False</td>\n",
       "      <td>False</td>\n",
       "      <td>False</td>\n",
       "      <td>True</td>\n",
       "      <td>False</td>\n",
       "    </tr>\n",
       "    <tr>\n",
       "      <th>4</th>\n",
       "      <td>False</td>\n",
       "      <td>False</td>\n",
       "      <td>False</td>\n",
       "      <td>False</td>\n",
       "      <td>False</td>\n",
       "      <td>False</td>\n",
       "      <td>True</td>\n",
       "      <td>False</td>\n",
       "    </tr>\n",
       "    <tr>\n",
       "      <th>...</th>\n",
       "      <td>...</td>\n",
       "      <td>...</td>\n",
       "      <td>...</td>\n",
       "      <td>...</td>\n",
       "      <td>...</td>\n",
       "      <td>...</td>\n",
       "      <td>...</td>\n",
       "      <td>...</td>\n",
       "    </tr>\n",
       "    <tr>\n",
       "      <th>1592</th>\n",
       "      <td>False</td>\n",
       "      <td>False</td>\n",
       "      <td>False</td>\n",
       "      <td>True</td>\n",
       "      <td>False</td>\n",
       "      <td>False</td>\n",
       "      <td>False</td>\n",
       "      <td>False</td>\n",
       "    </tr>\n",
       "    <tr>\n",
       "      <th>1593</th>\n",
       "      <td>False</td>\n",
       "      <td>False</td>\n",
       "      <td>False</td>\n",
       "      <td>True</td>\n",
       "      <td>False</td>\n",
       "      <td>False</td>\n",
       "      <td>False</td>\n",
       "      <td>False</td>\n",
       "    </tr>\n",
       "    <tr>\n",
       "      <th>1594</th>\n",
       "      <td>False</td>\n",
       "      <td>False</td>\n",
       "      <td>False</td>\n",
       "      <td>True</td>\n",
       "      <td>False</td>\n",
       "      <td>False</td>\n",
       "      <td>False</td>\n",
       "      <td>False</td>\n",
       "    </tr>\n",
       "    <tr>\n",
       "      <th>1595</th>\n",
       "      <td>False</td>\n",
       "      <td>False</td>\n",
       "      <td>False</td>\n",
       "      <td>True</td>\n",
       "      <td>False</td>\n",
       "      <td>False</td>\n",
       "      <td>False</td>\n",
       "      <td>False</td>\n",
       "    </tr>\n",
       "    <tr>\n",
       "      <th>1596</th>\n",
       "      <td>False</td>\n",
       "      <td>False</td>\n",
       "      <td>False</td>\n",
       "      <td>True</td>\n",
       "      <td>False</td>\n",
       "      <td>False</td>\n",
       "      <td>False</td>\n",
       "      <td>False</td>\n",
       "    </tr>\n",
       "  </tbody>\n",
       "</table>\n",
       "<p>1597 rows × 8 columns</p>\n",
       "</div>"
      ],
      "text/plain": [
       "      title  score     id    url  comms_num  created   body  timestamp\n",
       "0     False  False  False  False      False    False   True      False\n",
       "1     False  False  False  False      False    False   True      False\n",
       "2     False  False  False  False      False    False   True      False\n",
       "3     False  False  False  False      False    False   True      False\n",
       "4     False  False  False  False      False    False   True      False\n",
       "...     ...    ...    ...    ...        ...      ...    ...        ...\n",
       "1592  False  False  False   True      False    False  False      False\n",
       "1593  False  False  False   True      False    False  False      False\n",
       "1594  False  False  False   True      False    False  False      False\n",
       "1595  False  False  False   True      False    False  False      False\n",
       "1596  False  False  False   True      False    False  False      False\n",
       "\n",
       "[1597 rows x 8 columns]"
      ]
     },
     "execution_count": 7,
     "metadata": {},
     "output_type": "execute_result"
    }
   ],
   "source": [
    "red.isna()"
   ]
  },
  {
   "cell_type": "code",
   "execution_count": 8,
   "id": "e0cdfaf9-6abd-45a1-92d4-313f5d68b35f",
   "metadata": {},
   "outputs": [
    {
     "data": {
      "text/plain": [
       "<bound method NDFrame._add_numeric_operations.<locals>.sum of       title  score     id    url  comms_num  created   body  timestamp\n",
       "0     False  False  False  False      False    False   True      False\n",
       "1     False  False  False  False      False    False   True      False\n",
       "2     False  False  False  False      False    False   True      False\n",
       "3     False  False  False  False      False    False   True      False\n",
       "4     False  False  False  False      False    False   True      False\n",
       "...     ...    ...    ...    ...        ...      ...    ...        ...\n",
       "1592  False  False  False   True      False    False  False      False\n",
       "1593  False  False  False   True      False    False  False      False\n",
       "1594  False  False  False   True      False    False  False      False\n",
       "1595  False  False  False   True      False    False  False      False\n",
       "1596  False  False  False   True      False    False  False      False\n",
       "\n",
       "[1597 rows x 8 columns]>"
      ]
     },
     "execution_count": 8,
     "metadata": {},
     "output_type": "execute_result"
    }
   ],
   "source": [
    "red.isna().sum"
   ]
  },
  {
   "cell_type": "code",
   "execution_count": 9,
   "id": "f27a183f-e150-4aa2-946e-e2d6de9d075d",
   "metadata": {},
   "outputs": [
    {
     "data": {
      "text/plain": [
       "<bound method DataFrame.dropna of                                                   title  score       id  \\\n",
       "0     Health Canada approves AstraZeneca COVID-19 va...      7   lt74vw   \n",
       "1     COVID-19 in Canada: 'Vaccination passports' a ...      2   lsh0ij   \n",
       "2     Coronavirus variants could fuel Canada's third...      6   lohlle   \n",
       "3     Canadian government to extend COVID-19 emergen...      1   lnptv8   \n",
       "4     Canada: Pfizer is 'extremely committed' to mee...      6   lkslm6   \n",
       "...                                                 ...    ...      ...   \n",
       "1592                                            Comment      1  elrrt5l   \n",
       "1593                                            Comment      1  elrqfk3   \n",
       "1594                                            Comment      1  elrph9m   \n",
       "1595                                            Comment      1  elroxqn   \n",
       "1596                                            Comment      1  elro7rb   \n",
       "\n",
       "                                                    url  comms_num  \\\n",
       "0     https://www.canadaforums.ca/2021/02/health-can...          0   \n",
       "1     https://www.canadaforums.ca/2021/02/covid-19-i...          1   \n",
       "2     https://www.canadaforums.ca/2021/02/coronaviru...          0   \n",
       "3     https://www.canadaforums.ca/2021/02/canadian-g...          0   \n",
       "4     https://www.canadaforums.ca/2021/02/canada-pfi...          0   \n",
       "...                                                 ...        ...   \n",
       "1592                                                NaN          0   \n",
       "1593                                                NaN          0   \n",
       "1594                                                NaN          0   \n",
       "1595                                                NaN          0   \n",
       "1596                                                NaN          0   \n",
       "\n",
       "           created                                               body  \\\n",
       "0     1.614400e+09                                                NaN   \n",
       "1     1.614316e+09                                                NaN   \n",
       "2     1.613887e+09                                                NaN   \n",
       "3     1.613796e+09                                                NaN   \n",
       "4     1.613468e+09                                                NaN   \n",
       "...            ...                                                ...   \n",
       "1592  1.556221e+09  How long does it take ethyl mercury to metabol...   \n",
       "1593  1.556220e+09  > Why is it sounding like I'm scraping the bot...   \n",
       "1594  1.556220e+09  Why is it sounding like I'm scraping the botto...   \n",
       "1595  1.556219e+09  Is that what the study said? Did you read the ...   \n",
       "1596  1.556219e+09  >So on the one hand you say a paper is needed\\...   \n",
       "\n",
       "                timestamp  \n",
       "0     2021-02-27 06:33:45  \n",
       "1     2021-02-26 07:11:07  \n",
       "2     2021-02-21 07:50:08  \n",
       "3     2021-02-20 06:35:13  \n",
       "4     2021-02-16 11:36:28  \n",
       "...                   ...  \n",
       "1592  2019-04-25 22:35:39  \n",
       "1593  2019-04-25 22:21:34  \n",
       "1594  2019-04-25 22:11:42  \n",
       "1595  2019-04-25 22:06:03  \n",
       "1596  2019-04-25 21:58:49  \n",
       "\n",
       "[1597 rows x 8 columns]>"
      ]
     },
     "execution_count": 9,
     "metadata": {},
     "output_type": "execute_result"
    }
   ],
   "source": [
    "red.dropna"
   ]
  },
  {
   "cell_type": "code",
   "execution_count": 10,
   "id": "915bbc32-e1c9-4ab6-b26b-75301dcb85ee",
   "metadata": {},
   "outputs": [
    {
     "data": {
      "text/html": [
       "<div>\n",
       "<style scoped>\n",
       "    .dataframe tbody tr th:only-of-type {\n",
       "        vertical-align: middle;\n",
       "    }\n",
       "\n",
       "    .dataframe tbody tr th {\n",
       "        vertical-align: top;\n",
       "    }\n",
       "\n",
       "    .dataframe thead th {\n",
       "        text-align: right;\n",
       "    }\n",
       "</style>\n",
       "<table border=\"1\" class=\"dataframe\">\n",
       "  <thead>\n",
       "    <tr style=\"text-align: right;\">\n",
       "      <th></th>\n",
       "      <th>title</th>\n",
       "      <th>score</th>\n",
       "      <th>id</th>\n",
       "      <th>url</th>\n",
       "      <th>comms_num</th>\n",
       "      <th>created</th>\n",
       "      <th>body</th>\n",
       "      <th>timestamp</th>\n",
       "    </tr>\n",
       "  </thead>\n",
       "  <tbody>\n",
       "    <tr>\n",
       "      <th>0</th>\n",
       "      <td>Health Canada approves AstraZeneca COVID-19 va...</td>\n",
       "      <td>7</td>\n",
       "      <td>lt74vw</td>\n",
       "      <td>https://www.canadaforums.ca/2021/02/health-can...</td>\n",
       "      <td>0</td>\n",
       "      <td>1.614400e+09</td>\n",
       "      <td>NaN</td>\n",
       "      <td>2021-02-27 06:33:45</td>\n",
       "    </tr>\n",
       "    <tr>\n",
       "      <th>1</th>\n",
       "      <td>COVID-19 in Canada: 'Vaccination passports' a ...</td>\n",
       "      <td>2</td>\n",
       "      <td>lsh0ij</td>\n",
       "      <td>https://www.canadaforums.ca/2021/02/covid-19-i...</td>\n",
       "      <td>1</td>\n",
       "      <td>1.614316e+09</td>\n",
       "      <td>NaN</td>\n",
       "      <td>2021-02-26 07:11:07</td>\n",
       "    </tr>\n",
       "    <tr>\n",
       "      <th>2</th>\n",
       "      <td>Coronavirus variants could fuel Canada's third...</td>\n",
       "      <td>6</td>\n",
       "      <td>lohlle</td>\n",
       "      <td>https://www.canadaforums.ca/2021/02/coronaviru...</td>\n",
       "      <td>0</td>\n",
       "      <td>1.613887e+09</td>\n",
       "      <td>NaN</td>\n",
       "      <td>2021-02-21 07:50:08</td>\n",
       "    </tr>\n",
       "    <tr>\n",
       "      <th>3</th>\n",
       "      <td>Canadian government to extend COVID-19 emergen...</td>\n",
       "      <td>1</td>\n",
       "      <td>lnptv8</td>\n",
       "      <td>https://www.canadaforums.ca/2021/02/canadian-g...</td>\n",
       "      <td>0</td>\n",
       "      <td>1.613796e+09</td>\n",
       "      <td>NaN</td>\n",
       "      <td>2021-02-20 06:35:13</td>\n",
       "    </tr>\n",
       "    <tr>\n",
       "      <th>4</th>\n",
       "      <td>Canada: Pfizer is 'extremely committed' to mee...</td>\n",
       "      <td>6</td>\n",
       "      <td>lkslm6</td>\n",
       "      <td>https://www.canadaforums.ca/2021/02/canada-pfi...</td>\n",
       "      <td>0</td>\n",
       "      <td>1.613468e+09</td>\n",
       "      <td>NaN</td>\n",
       "      <td>2021-02-16 11:36:28</td>\n",
       "    </tr>\n",
       "  </tbody>\n",
       "</table>\n",
       "</div>"
      ],
      "text/plain": [
       "                                               title  score      id  \\\n",
       "0  Health Canada approves AstraZeneca COVID-19 va...      7  lt74vw   \n",
       "1  COVID-19 in Canada: 'Vaccination passports' a ...      2  lsh0ij   \n",
       "2  Coronavirus variants could fuel Canada's third...      6  lohlle   \n",
       "3  Canadian government to extend COVID-19 emergen...      1  lnptv8   \n",
       "4  Canada: Pfizer is 'extremely committed' to mee...      6  lkslm6   \n",
       "\n",
       "                                                 url  comms_num       created  \\\n",
       "0  https://www.canadaforums.ca/2021/02/health-can...          0  1.614400e+09   \n",
       "1  https://www.canadaforums.ca/2021/02/covid-19-i...          1  1.614316e+09   \n",
       "2  https://www.canadaforums.ca/2021/02/coronaviru...          0  1.613887e+09   \n",
       "3  https://www.canadaforums.ca/2021/02/canadian-g...          0  1.613796e+09   \n",
       "4  https://www.canadaforums.ca/2021/02/canada-pfi...          0  1.613468e+09   \n",
       "\n",
       "  body            timestamp  \n",
       "0  NaN  2021-02-27 06:33:45  \n",
       "1  NaN  2021-02-26 07:11:07  \n",
       "2  NaN  2021-02-21 07:50:08  \n",
       "3  NaN  2021-02-20 06:35:13  \n",
       "4  NaN  2021-02-16 11:36:28  "
      ]
     },
     "execution_count": 10,
     "metadata": {},
     "output_type": "execute_result"
    }
   ],
   "source": [
    "red.head()"
   ]
  },
  {
   "cell_type": "markdown",
   "id": "c356dbe5-737e-4524-b2fc-e6bdba8385ed",
   "metadata": {},
   "source": [
    "## Time Series Analysis"
   ]
  },
  {
   "cell_type": "code",
   "execution_count": 11,
   "id": "7a68ad7c-74fa-4125-b7fc-e48970217e95",
   "metadata": {},
   "outputs": [],
   "source": [
    "# First we get the date\n",
    "red[\"date\"] = pd.to_datetime(red[\"timestamp\"])"
   ]
  },
  {
   "cell_type": "code",
   "execution_count": 12,
   "id": "d4937b9c-0c8e-4230-a69f-7b52e5f3fb27",
   "metadata": {},
   "outputs": [],
   "source": [
    "# Let us obtain the month and day\n",
    "red[\"Day\"] = red.date.dt.day\n",
    "red[\"Month\"] = red.date.dt.month\n",
    "red[\"Year\"] = red.date.dt.year"
   ]
  },
  {
   "cell_type": "code",
   "execution_count": 13,
   "id": "39243e66-40d0-410c-b304-e7b9f9900a9e",
   "metadata": {},
   "outputs": [],
   "source": [
    "# Convert month to name\n",
    "import calendar\n",
    "red[\"Month\"] = red[\"Month\"].apply(lambda x: calendar.month_name[x])"
   ]
  },
  {
   "cell_type": "code",
   "execution_count": 14,
   "id": "ef92b739-2b5a-4d0e-bf3f-598c60f44315",
   "metadata": {},
   "outputs": [
    {
     "data": {
      "image/png": "[encoded data removed]",
      "text/plain": [
       "<Figure size 1440x864 with 1 Axes>"
      ]
     },
     "metadata": {},
     "output_type": "display_data"
    }
   ],
   "source": [
    "# Day and score visualization\n",
    "plt.style.use(\"ggplot\") # I love ggplot\n",
    "plt.figure(figsize=(20,12))\n",
    "plt.plot(red[\"Day\"], red[\"score\"])\n",
    "plt.show()"
   ]
  },
  {
   "cell_type": "markdown",
   "id": "77fc891f-a825-46d3-abb7-f18a793cf8fb",
   "metadata": {},
   "source": [
    "                       The score is only high for the first few days of the month"
   ]
  },
  {
   "cell_type": "code",
   "execution_count": 15,
   "id": "fabf7443-8883-4fc0-9bf5-581fa93c9589",
   "metadata": {},
   "outputs": [
    {
     "data": {
      "text/plain": [
       "January      253\n",
       "April        246\n",
       "May          205\n",
       "March        183\n",
       "December     112\n",
       "February     108\n",
       "September    106\n",
       "July          86\n",
       "November      82\n",
       "October       79\n",
       "August        69\n",
       "June          68\n",
       "Name: Month, dtype: int64"
      ]
     },
     "execution_count": 15,
     "metadata": {},
     "output_type": "execute_result"
    }
   ],
   "source": [
    "red[\"Month\"].value_counts()"
   ]
  },
  {
   "cell_type": "code",
   "execution_count": 16,
   "id": "caba4eaf-bf59-4a42-88c7-9d5b9c3a1cb3",
   "metadata": {},
   "outputs": [
    {
     "data": {
      "image/png": "[encoded data removed]",
      "text/plain": [
       "<Figure size 1440x864 with 1 Axes>"
      ]
     },
     "metadata": {},
     "output_type": "display_data"
    }
   ],
   "source": [
    "# Month and score visualization\n",
    "plt.style.use(\"ggplot\") # I love ggplot\n",
    "plt.figure(figsize=(20,12))\n",
    "plt.plot(red[\"Month\"], red[\"score\"])\n",
    "plt.show()"
   ]
  },
  {
   "cell_type": "code",
   "execution_count": 17,
   "id": "5c5451d4-e27a-41c1-b9bf-9ad966567325",
   "metadata": {},
   "outputs": [
    {
     "data": {
      "text/plain": [
       "2019    702\n",
       "2020    313\n",
       "2021    256\n",
       "2014    223\n",
       "2015     54\n",
       "2016     20\n",
       "2017     20\n",
       "2018      9\n",
       "Name: Year, dtype: int64"
      ]
     },
     "execution_count": 17,
     "metadata": {},
     "output_type": "execute_result"
    }
   ],
   "source": [
    "red[\"Year\"].value_counts()"
   ]
  },
  {
   "cell_type": "code",
   "execution_count": 18,
   "id": "7be84e86-9b76-4e2e-8ca2-d626d2ff031e",
   "metadata": {},
   "outputs": [
    {
     "data": {
      "text/html": [
       "<div>\n",
       "<style scoped>\n",
       "    .dataframe tbody tr th:only-of-type {\n",
       "        vertical-align: middle;\n",
       "    }\n",
       "\n",
       "    .dataframe tbody tr th {\n",
       "        vertical-align: top;\n",
       "    }\n",
       "\n",
       "    .dataframe thead th {\n",
       "        text-align: right;\n",
       "    }\n",
       "</style>\n",
       "<table border=\"1\" class=\"dataframe\">\n",
       "  <thead>\n",
       "    <tr style=\"text-align: right;\">\n",
       "      <th></th>\n",
       "      <th>title</th>\n",
       "      <th>score</th>\n",
       "      <th>id</th>\n",
       "      <th>url</th>\n",
       "      <th>comms_num</th>\n",
       "      <th>created</th>\n",
       "      <th>body</th>\n",
       "      <th>timestamp</th>\n",
       "      <th>date</th>\n",
       "      <th>Day</th>\n",
       "      <th>Month</th>\n",
       "      <th>Year</th>\n",
       "    </tr>\n",
       "  </thead>\n",
       "  <tbody>\n",
       "    <tr>\n",
       "      <th>0</th>\n",
       "      <td>Health Canada approves AstraZeneca COVID-19 va...</td>\n",
       "      <td>7</td>\n",
       "      <td>lt74vw</td>\n",
       "      <td>https://www.canadaforums.ca/2021/02/health-can...</td>\n",
       "      <td>0</td>\n",
       "      <td>1.614400e+09</td>\n",
       "      <td>NaN</td>\n",
       "      <td>2021-02-27 06:33:45</td>\n",
       "      <td>2021-02-27 06:33:45</td>\n",
       "      <td>27</td>\n",
       "      <td>February</td>\n",
       "      <td>2021</td>\n",
       "    </tr>\n",
       "    <tr>\n",
       "      <th>1</th>\n",
       "      <td>COVID-19 in Canada: 'Vaccination passports' a ...</td>\n",
       "      <td>2</td>\n",
       "      <td>lsh0ij</td>\n",
       "      <td>https://www.canadaforums.ca/2021/02/covid-19-i...</td>\n",
       "      <td>1</td>\n",
       "      <td>1.614316e+09</td>\n",
       "      <td>NaN</td>\n",
       "      <td>2021-02-26 07:11:07</td>\n",
       "      <td>2021-02-26 07:11:07</td>\n",
       "      <td>26</td>\n",
       "      <td>February</td>\n",
       "      <td>2021</td>\n",
       "    </tr>\n",
       "    <tr>\n",
       "      <th>2</th>\n",
       "      <td>Coronavirus variants could fuel Canada's third...</td>\n",
       "      <td>6</td>\n",
       "      <td>lohlle</td>\n",
       "      <td>https://www.canadaforums.ca/2021/02/coronaviru...</td>\n",
       "      <td>0</td>\n",
       "      <td>1.613887e+09</td>\n",
       "      <td>NaN</td>\n",
       "      <td>2021-02-21 07:50:08</td>\n",
       "      <td>2021-02-21 07:50:08</td>\n",
       "      <td>21</td>\n",
       "      <td>February</td>\n",
       "      <td>2021</td>\n",
       "    </tr>\n",
       "    <tr>\n",
       "      <th>3</th>\n",
       "      <td>Canadian government to extend COVID-19 emergen...</td>\n",
       "      <td>1</td>\n",
       "      <td>lnptv8</td>\n",
       "      <td>https://www.canadaforums.ca/2021/02/canadian-g...</td>\n",
       "      <td>0</td>\n",
       "      <td>1.613796e+09</td>\n",
       "      <td>NaN</td>\n",
       "      <td>2021-02-20 06:35:13</td>\n",
       "      <td>2021-02-20 06:35:13</td>\n",
       "      <td>20</td>\n",
       "      <td>February</td>\n",
       "      <td>2021</td>\n",
       "    </tr>\n",
       "    <tr>\n",
       "      <th>4</th>\n",
       "      <td>Canada: Pfizer is 'extremely committed' to mee...</td>\n",
       "      <td>6</td>\n",
       "      <td>lkslm6</td>\n",
       "      <td>https://www.canadaforums.ca/2021/02/canada-pfi...</td>\n",
       "      <td>0</td>\n",
       "      <td>1.613468e+09</td>\n",
       "      <td>NaN</td>\n",
       "      <td>2021-02-16 11:36:28</td>\n",
       "      <td>2021-02-16 11:36:28</td>\n",
       "      <td>16</td>\n",
       "      <td>February</td>\n",
       "      <td>2021</td>\n",
       "    </tr>\n",
       "  </tbody>\n",
       "</table>\n",
       "</div>"
      ],
      "text/plain": [
       "                                               title  score      id  \\\n",
       "0  Health Canada approves AstraZeneca COVID-19 va...      7  lt74vw   \n",
       "1  COVID-19 in Canada: 'Vaccination passports' a ...      2  lsh0ij   \n",
       "2  Coronavirus variants could fuel Canada's third...      6  lohlle   \n",
       "3  Canadian government to extend COVID-19 emergen...      1  lnptv8   \n",
       "4  Canada: Pfizer is 'extremely committed' to mee...      6  lkslm6   \n",
       "\n",
       "                                                 url  comms_num       created  \\\n",
       "0  https://www.canadaforums.ca/2021/02/health-can...          0  1.614400e+09   \n",
       "1  https://www.canadaforums.ca/2021/02/covid-19-i...          1  1.614316e+09   \n",
       "2  https://www.canadaforums.ca/2021/02/coronaviru...          0  1.613887e+09   \n",
       "3  https://www.canadaforums.ca/2021/02/canadian-g...          0  1.613796e+09   \n",
       "4  https://www.canadaforums.ca/2021/02/canada-pfi...          0  1.613468e+09   \n",
       "\n",
       "  body            timestamp                date  Day     Month  Year  \n",
       "0  NaN  2021-02-27 06:33:45 2021-02-27 06:33:45   27  February  2021  \n",
       "1  NaN  2021-02-26 07:11:07 2021-02-26 07:11:07   26  February  2021  \n",
       "2  NaN  2021-02-21 07:50:08 2021-02-21 07:50:08   21  February  2021  \n",
       "3  NaN  2021-02-20 06:35:13 2021-02-20 06:35:13   20  February  2021  \n",
       "4  NaN  2021-02-16 11:36:28 2021-02-16 11:36:28   16  February  2021  "
      ]
     },
     "execution_count": 18,
     "metadata": {},
     "output_type": "execute_result"
    }
   ],
   "source": [
    "red.head()"
   ]
  },
  {
   "cell_type": "code",
   "execution_count": 19,
   "id": "e43d84d4-a578-4fee-a26d-b42725305da6",
   "metadata": {},
   "outputs": [
    {
     "data": {
      "text/plain": [
       "Comment                                                                                                                                                                                                                                                                                                       1130\n",
       "Can't do math, tries convincing the Amish don't vaccinate, can't provide proof that the Amish are not susceptible to vaccine-preventable diseases, jumps to a 2002 video about congressional hearings regarding dental amalgams, ignores fact that thimerosal is no longer in required childhood vaccines.       1\n",
       "It's a known fact that the US Gov't created AIDS. I'm getting the feeling that vaccines are being used to spread it and keep the population down. What do you think?                                                                                                                                             1\n",
       "Vax                                                                                                                                                                                                                                                                                                              1\n",
       "Coronavirus variants could fuel Canada's third wave                                                                                                                                                                                                                                                              1\n",
       "                                                                                                                                                                                                                                                                                                              ... \n",
       "I want my Mumps and Measles Back in my Baby, I want my Mumps and Measles Back in my Baby, I want my Mumps and Measles Back in my Baby...Chili's Baby Anti Vax Idiots!                                                                                                                                            1\n",
       "Ottawa daycare is promising a ‘vaccine-free environment’ for kids.                                                                                                                                                                                                                                               1\n",
       "Can I have a rant please??                                                                                                                                                                                                                                                                                       1\n",
       "Help Debunking this?                                                                                                                                                                                                                                                                                             1\n",
       "I almost died of vaccination                                                                                                                                                                                                                                                                                     1\n",
       "Name: title, Length: 468, dtype: int64"
      ]
     },
     "execution_count": 19,
     "metadata": {},
     "output_type": "execute_result"
    }
   ],
   "source": [
    "red.title.value_counts()"
   ]
  },
  {
   "cell_type": "code",
   "execution_count": 20,
   "id": "3beb9aa6-6681-4796-9ebf-c8138e028426",
   "metadata": {},
   "outputs": [
    {
     "data": {
      "text/plain": [
       "<AxesSubplot:xlabel='title', ylabel='count'>"
      ]
     },
     "execution_count": 20,
     "metadata": {},
     "output_type": "execute_result"
    },
    {
     "data": {
      "image/png": "[encoded data removed]",
      "text/plain": [
       "<Figure size 432x288 with 1 Axes>"
      ]
     },
     "metadata": {},
     "output_type": "display_data"
    }
   ],
   "source": [
    "sns.countplot(x=red.title.value_counts())"
   ]
  },
  {
   "cell_type": "code",
   "execution_count": 21,
   "id": "b006bf71-99f1-45de-af7e-5a1fd46ba069",
   "metadata": {},
   "outputs": [
    {
     "data": {
      "text/html": [
       "<div>\n",
       "<style scoped>\n",
       "    .dataframe tbody tr th:only-of-type {\n",
       "        vertical-align: middle;\n",
       "    }\n",
       "\n",
       "    .dataframe tbody tr th {\n",
       "        vertical-align: top;\n",
       "    }\n",
       "\n",
       "    .dataframe thead th {\n",
       "        text-align: right;\n",
       "    }\n",
       "</style>\n",
       "<table border=\"1\" class=\"dataframe\">\n",
       "  <thead>\n",
       "    <tr style=\"text-align: right;\">\n",
       "      <th></th>\n",
       "      <th>title</th>\n",
       "      <th>score</th>\n",
       "      <th>id</th>\n",
       "      <th>url</th>\n",
       "      <th>comms_num</th>\n",
       "      <th>created</th>\n",
       "      <th>body</th>\n",
       "      <th>timestamp</th>\n",
       "      <th>date</th>\n",
       "      <th>Day</th>\n",
       "      <th>Month</th>\n",
       "      <th>Year</th>\n",
       "    </tr>\n",
       "  </thead>\n",
       "  <tbody>\n",
       "    <tr>\n",
       "      <th>1592</th>\n",
       "      <td>Comment</td>\n",
       "      <td>1</td>\n",
       "      <td>elrrt5l</td>\n",
       "      <td>NaN</td>\n",
       "      <td>0</td>\n",
       "      <td>1.556221e+09</td>\n",
       "      <td>How long does it take ethyl mercury to metabol...</td>\n",
       "      <td>2019-04-25 22:35:39</td>\n",
       "      <td>2019-04-25 22:35:39</td>\n",
       "      <td>25</td>\n",
       "      <td>April</td>\n",
       "      <td>2019</td>\n",
       "    </tr>\n",
       "    <tr>\n",
       "      <th>1593</th>\n",
       "      <td>Comment</td>\n",
       "      <td>1</td>\n",
       "      <td>elrqfk3</td>\n",
       "      <td>NaN</td>\n",
       "      <td>0</td>\n",
       "      <td>1.556220e+09</td>\n",
       "      <td>&gt; Why is it sounding like I'm scraping the bot...</td>\n",
       "      <td>2019-04-25 22:21:34</td>\n",
       "      <td>2019-04-25 22:21:34</td>\n",
       "      <td>25</td>\n",
       "      <td>April</td>\n",
       "      <td>2019</td>\n",
       "    </tr>\n",
       "    <tr>\n",
       "      <th>1594</th>\n",
       "      <td>Comment</td>\n",
       "      <td>1</td>\n",
       "      <td>elrph9m</td>\n",
       "      <td>NaN</td>\n",
       "      <td>0</td>\n",
       "      <td>1.556220e+09</td>\n",
       "      <td>Why is it sounding like I'm scraping the botto...</td>\n",
       "      <td>2019-04-25 22:11:42</td>\n",
       "      <td>2019-04-25 22:11:42</td>\n",
       "      <td>25</td>\n",
       "      <td>April</td>\n",
       "      <td>2019</td>\n",
       "    </tr>\n",
       "    <tr>\n",
       "      <th>1595</th>\n",
       "      <td>Comment</td>\n",
       "      <td>1</td>\n",
       "      <td>elroxqn</td>\n",
       "      <td>NaN</td>\n",
       "      <td>0</td>\n",
       "      <td>1.556219e+09</td>\n",
       "      <td>Is that what the study said? Did you read the ...</td>\n",
       "      <td>2019-04-25 22:06:03</td>\n",
       "      <td>2019-04-25 22:06:03</td>\n",
       "      <td>25</td>\n",
       "      <td>April</td>\n",
       "      <td>2019</td>\n",
       "    </tr>\n",
       "    <tr>\n",
       "      <th>1596</th>\n",
       "      <td>Comment</td>\n",
       "      <td>1</td>\n",
       "      <td>elro7rb</td>\n",
       "      <td>NaN</td>\n",
       "      <td>0</td>\n",
       "      <td>1.556219e+09</td>\n",
       "      <td>&gt;So on the one hand you say a paper is needed\\...</td>\n",
       "      <td>2019-04-25 21:58:49</td>\n",
       "      <td>2019-04-25 21:58:49</td>\n",
       "      <td>25</td>\n",
       "      <td>April</td>\n",
       "      <td>2019</td>\n",
       "    </tr>\n",
       "  </tbody>\n",
       "</table>\n",
       "</div>"
      ],
      "text/plain": [
       "        title  score       id  url  comms_num       created  \\\n",
       "1592  Comment      1  elrrt5l  NaN          0  1.556221e+09   \n",
       "1593  Comment      1  elrqfk3  NaN          0  1.556220e+09   \n",
       "1594  Comment      1  elrph9m  NaN          0  1.556220e+09   \n",
       "1595  Comment      1  elroxqn  NaN          0  1.556219e+09   \n",
       "1596  Comment      1  elro7rb  NaN          0  1.556219e+09   \n",
       "\n",
       "                                                   body            timestamp  \\\n",
       "1592  How long does it take ethyl mercury to metabol...  2019-04-25 22:35:39   \n",
       "1593  > Why is it sounding like I'm scraping the bot...  2019-04-25 22:21:34   \n",
       "1594  Why is it sounding like I'm scraping the botto...  2019-04-25 22:11:42   \n",
       "1595  Is that what the study said? Did you read the ...  2019-04-25 22:06:03   \n",
       "1596  >So on the one hand you say a paper is needed\\...  2019-04-25 21:58:49   \n",
       "\n",
       "                    date  Day  Month  Year  \n",
       "1592 2019-04-25 22:35:39   25  April  2019  \n",
       "1593 2019-04-25 22:21:34   25  April  2019  \n",
       "1594 2019-04-25 22:11:42   25  April  2019  \n",
       "1595 2019-04-25 22:06:03   25  April  2019  \n",
       "1596 2019-04-25 21:58:49   25  April  2019  "
      ]
     },
     "execution_count": 21,
     "metadata": {},
     "output_type": "execute_result"
    }
   ],
   "source": [
    "red.tail()"
   ]
  },
  {
   "cell_type": "code",
   "execution_count": 22,
   "id": "05242cfd-7ca3-4420-8110-46c8ad4167f3",
   "metadata": {},
   "outputs": [
    {
     "name": "stderr",
     "output_type": "stream",
     "text": [
      "c:\\users\\user\\appdata\\local\\programs\\python\\python39\\lib\\site-packages\\seaborn\\_decorators.py:36: FutureWarning: Pass the following variables as keyword args: x, y. From version 0.12, the only valid positional argument will be `data`, and passing other arguments without an explicit keyword will result in an error or misinterpretation.\n",
      "  warnings.warn(\n"
     ]
    },
    {
     "data": {
      "image/png": "[encoded data removed]",
      "text/plain": [
       "<Figure size 1152x648 with 1 Axes>"
      ]
     },
     "metadata": {},
     "output_type": "display_data"
    }
   ],
   "source": [
    "# Which year was most active?\n",
    "x=red.Year.value_counts()\n",
    "_,ax=plt.subplots(figsize=(16,9))\n",
    "sns.barplot(x.index,x.values)\n",
    "plt.show()"
   ]
  },
  {
   "cell_type": "markdown",
   "id": "7fe31ae7-2a2f-4ad5-9452-54733991ad52",
   "metadata": {},
   "source": [
    "            Seems 2019 was the most active year coincidentally, this is the year the pandemic began."
   ]
  },
  {
   "cell_type": "code",
   "execution_count": 23,
   "id": "7bb20093-8701-46ec-a0b6-807ecd9328ce",
   "metadata": {},
   "outputs": [],
   "source": [
    "import numpy as np"
   ]
  },
  {
   "cell_type": "code",
   "execution_count": 24,
   "id": "fed6b652-a0bf-49b3-9a01-7eed0b21e3b5",
   "metadata": {},
   "outputs": [],
   "source": [
    "from bs4 import BeautifulSoup"
   ]
  },
  {
   "cell_type": "markdown",
   "id": "8bde4d08-1fbc-4f02-9300-7602239a2360",
   "metadata": {},
   "source": [
    "  ## Sentiment Analysis"
   ]
  },
  {
   "cell_type": "code",
   "execution_count": 25,
   "id": "3b216bb2-b8b3-48e4-858f-8cc634955dd1",
   "metadata": {},
   "outputs": [],
   "source": [
    "# We will loop through the score to check people's views on covid\n",
    "jab = []\n",
    "\n",
    "for i in red['score']:\n",
    "    if i < 7:\n",
    "        jab.append(0) # If the score is below 7 then they are against covid vaxx\n",
    "    if i == 7:\n",
    "        jab.append(1) # If the score is 7 they are neutral\n",
    "    if i > 7:\n",
    "        jab.append(2) # If the score is above 7 they are for vaxx"
   ]
  },
  {
   "cell_type": "code",
   "execution_count": 26,
   "id": "5e9b3168-d5fc-4ff6-8b42-3c68fa69615b",
   "metadata": {},
   "outputs": [
    {
     "name": "stderr",
     "output_type": "stream",
     "text": [
      "c:\\users\\user\\appdata\\local\\programs\\python\\python39\\lib\\site-packages\\seaborn\\_decorators.py:36: FutureWarning: Pass the following variable as a keyword arg: x. From version 0.12, the only valid positional argument will be `data`, and passing other arguments without an explicit keyword will result in an error or misinterpretation.\n",
      "  warnings.warn(\n"
     ]
    },
    {
     "data": {
      "image/png": "[encoded data removed]",
      "text/plain": [
       "<Figure size 432x288 with 1 Axes>"
      ]
     },
     "metadata": {},
     "output_type": "display_data"
    }
   ],
   "source": [
    "sns.countplot(jab)\n",
    "plt.xlabel('Opinions', color = 'black')\n",
    "plt.ylabel('Score', color = 'black')\n",
    "plt.xticks([0,1,2],['Against vaxx','Neutral','For Vaxx'])\n",
    "plt.title('Sentiment Analysis on COVID Vaxx from a Sample of Users', color = 'b')\n",
    "plt.show()"
   ]
  },
  {
   "cell_type": "code",
   "execution_count": 27,
   "id": "68162755-2cd1-499d-b10f-c1a9c73415c3",
   "metadata": {},
   "outputs": [],
   "source": [
    "import plotly.express as px\n",
    "import plotly.graph_objects as go\n",
    "import plotly as py\n",
    "from wordcloud import WordCloud, STOPWORDS"
   ]
  },
  {
   "cell_type": "code",
   "execution_count": 28,
   "id": "5862a57e-102a-4c8d-b65c-482dae861aaa",
   "metadata": {},
   "outputs": [
    {
     "data": {
      "image/png": "[encoded data removed]",
      "text/plain": [
       "<Figure size 576x576 with 1 Axes>"
      ]
     },
     "metadata": {},
     "output_type": "display_data"
    }
   ],
   "source": [
    "wordcloud = WordCloud(width = 800, height = 800,stopwords=STOPWORDS, min_font_size=10).generate(' '.join(i for i in red['title']))\n",
    "plt.figure(figsize = (8, 8), facecolor = None) \n",
    "plt.imshow(wordcloud, interpolation='bilinear')\n",
    "plt.axis(\"off\") \n",
    "plt.tight_layout(pad = 0) \n",
    "plt.show()"
   ]
  },
  {
   "cell_type": "code",
   "execution_count": null,
   "id": "3f952c0e-843b-4b80-9de5-7d3c06e28150",
   "metadata": {},
   "outputs": [],
   "source": []
  }
 ],
 "metadata": {
  "kernelspec": {
   "display_name": "Python 3 (ipykernel)",
   "language": "python",
   "name": "python3"
  },
  "language_info": {
   "codemirror_mode": {
    "name": "ipython",
    "version": 3
   },
   "file_extension": ".py",
   "mimetype": "text/x-python",
   "name": "python",
   "nbconvert_exporter": "python",
   "pygments_lexer": "ipython3",
   "version": "3.10.1"
  },
  "widgets": {
   "application/vnd.jupyter.widget-state+json": {
    "state": {},
    "version_major": 2,
    "version_minor": 0
   }
  }
 },
 "nbformat": 4,
 "nbformat_minor": 5
}
